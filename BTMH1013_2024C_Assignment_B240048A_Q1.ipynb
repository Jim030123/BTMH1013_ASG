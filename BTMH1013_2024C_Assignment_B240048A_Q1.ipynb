{
  "nbformat": 4,
  "nbformat_minor": 0,
  "metadata": {
    "colab": {
      "provenance": [],
      "gpuType": "T4",
      "include_colab_link": true
    },
    "kernelspec": {
      "name": "python3",
      "display_name": "Python 3"
    },
    "language_info": {
      "name": "python"
    },
    "accelerator": "GPU"
  },
  "cells": [
    {
      "cell_type": "markdown",
      "metadata": {
        "id": "view-in-github",
        "colab_type": "text"
      },
      "source": [
        "<a href=\"https://colab.research.google.com/github/Jim030123/BTMH1013_ASG/blob/main/BTMH1013_2024C_Assignment_B240048A_Q1.ipynb\" target=\"_parent\"><img src=\"https://colab.research.google.com/assets/colab-badge.svg\" alt=\"Open In Colab\"/></a>"
      ]
    },
    {
      "cell_type": "markdown",
      "source": [
        "Q1 (a)"
      ],
      "metadata": {
        "id": "4XIuTIqTfFkh"
      }
    },
    {
      "cell_type": "code",
      "execution_count": null,
      "metadata": {
        "colab": {
          "base_uri": "https://localhost:8080/"
        },
        "id": "M9Cw-oMIUrvF",
        "outputId": "89d80997-287b-4220-bcea-491f073312d6"
      },
      "outputs": [
        {
          "output_type": "stream",
          "name": "stdout",
          "text": [
            "0.547326103833\n"
          ]
        }
      ],
      "source": [
        "from sympy import nextprime  # Importing nextprime function from sympy\n",
        "\n",
        "N = 12  # Number of decimal places\n",
        "eps = 10 ** -(N + 4)  # Define epsilon for stopping condition\n",
        "mul = 1  # Initialize multiplier\n",
        "ans = 0  # Initialize answer\n",
        "p = 1  # Start with p=1\n",
        "\n",
        "# Loop to find prime numbers and compute r until r < eps\n",
        "while True:\n",
        "    p = nextprime(p)  # Get the next prime number\n",
        "    r = mul / p / (p - 1) ** 2  # Compute r\n",
        "    if r < eps:\n",
        "        break  # Exit loop if r is less than epsilon\n",
        "    ans += r  # Add r to the answer\n",
        "    mul *= (p - 1) / p  # Update multiplier\n",
        "\n",
        "ans = round(ans, N)  # Round the answer to N decimal places\n",
        "print(ans)  # Print the final result\n",
        "\n"
      ]
    },
    {
      "cell_type": "markdown",
      "source": [
        "Q1 (b)"
      ],
      "metadata": {
        "id": "AI4YqJTmbnnn"
      }
    },
    {
      "cell_type": "code",
      "source": [
        "from fractions import Fraction  # Import Fraction for precise rational number calculations\n",
        "\n",
        "ls = [4, 5, 6, 7, 8, 9, 10, 12, 12, 14, 15, 18, 20, 21, 24, 28, 30, 35, 36, 40, 42, 45, 56, 60, 63, 70, 72]  # List of numbers\n",
        "\n",
        "ans = 0  # Initialize the answer\n",
        "n = len(ls)  # Get the length of the list\n",
        "the_sum = Fraction(1, 2) - Fraction(1, 4) - Fraction(1, 9)  # Calculate the target sum\n",
        "l, r = ls[:n // 2], ls[n // 2:]  # Split the list into two halves\n",
        "mp = {}  # Initialize a dictionary to store sum counts\n",
        "\n",
        "# Iterate over all subsets of the first half\n",
        "for i in range(1 << len(l)):\n",
        "    s = Fraction(0)  # Initialize subset sum\n",
        "    for j in range(len(l)):\n",
        "        if i >> j & 1:\n",
        "            s += Fraction(1, l[j] * l[j])  # Add reciprocal of square if bit is set\n",
        "    if s <= the_sum:\n",
        "        if s not in mp.keys():\n",
        "            mp[s] = 0  # Initialize count for this sum if not present\n",
        "        mp[s] += 1  # Increment count for this sum\n",
        "\n",
        "# Iterate over all subsets of the second half\n",
        "for i in range(1 << len(r)):\n",
        "    s = Fraction(0)  # Initialize subset sum\n",
        "    for j in range(len(r)):\n",
        "        if i >> j & 1:\n",
        "            s += Fraction(1, r[j] * r[j])  # Add reciprocal of square if bit is set\n",
        "    t = the_sum - s  # Calculate the complementary sum needed\n",
        "    if t in mp.keys():\n",
        "        ans += mp[t]  # Add the number of ways to achieve the complementary sum\n",
        "\n",
        "print(ans)  # Print the final answer\n",
        "\n"
      ],
      "metadata": {
        "colab": {
          "base_uri": "https://localhost:8080/"
        },
        "id": "NA-CQYiVbpCF",
        "outputId": "1a7cf208-182d-4bcd-a6b1-475d220c7f42"
      },
      "execution_count": null,
      "outputs": [
        {
          "output_type": "stream",
          "name": "stdout",
          "text": [
            "301\n"
          ]
        }
      ]
    },
    {
      "cell_type": "markdown",
      "source": [
        "Q1 (c)"
      ],
      "metadata": {
        "id": "94mfNKUxcg-d"
      }
    },
    {
      "cell_type": "code",
      "source": [
        "N = int(1e7)  # Define the upper limit\n",
        "pr = []  # Initialize list to store prime numbers\n",
        "v = [0] * (N + 1)  # Initialize sieve list\n",
        "s = [0] * (N + 1)  # Initialize list to store computed values\n",
        "s[1] = 1  # Base case\n",
        "\n",
        "# Sieve of Eratosthenes to find primes and compute s values\n",
        "for i in range(2, N + 1):\n",
        "    if v[i] == 0:\n",
        "        v[i] = i  # Mark the prime number\n",
        "        s[i] = 2  # Initialize s for prime\n",
        "        pr.append(i)  # Add prime to the list\n",
        "    for prime in pr:\n",
        "        if prime > v[i] or prime > N // i:\n",
        "            break  # Stop if prime is larger than the smallest prime factor or exceeds limit\n",
        "        v[i * prime] = prime  # Mark the smallest prime factor\n",
        "        if prime == v[i]:\n",
        "            s[i * prime] = s[i] + s[i] - s[i // prime]  # Update s for powers of prime\n",
        "        else:\n",
        "            s[i * prime] = s[i] + s[i]  # Update s for distinct prime factors\n",
        "\n",
        "ans = 0  # Initialize the answer\n",
        "\n",
        "# Iterate through the range to find consecutive s values that are equal\n",
        "for i in range(1, N):\n",
        "    if s[i] == s[i + 1]:\n",
        "        ans += 1  # Increment the count if consecutive s values are equal\n",
        "\n",
        "print(ans)  # Print the final answer\n",
        "\n"
      ],
      "metadata": {
        "colab": {
          "base_uri": "https://localhost:8080/"
        },
        "id": "8PWwPRcachLU",
        "outputId": "cc056625-9783-4b77-b981-8bd292c73c2b"
      },
      "execution_count": null,
      "outputs": [
        {
          "output_type": "stream",
          "name": "stdout",
          "text": [
            "986262\n"
          ]
        }
      ]
    },
    {
      "cell_type": "markdown",
      "source": [
        "Q1 (d)"
      ],
      "metadata": {
        "id": "7iE1cc83faS4"
      }
    },
    {
      "cell_type": "code",
      "source": [
        "import math  # Importing the math module for mathematical functions\n",
        "\n",
        "def main():\n",
        "    N = 10000  # Define the upper limit for the range\n",
        "    A = int(math.sqrt(2 * N))  # Calculate A based on N\n",
        "\n",
        "    # Creating a three-dimensional array filled with zeros\n",
        "    arr = [[[0 for _ in range(A)] for _ in range(A)] for _ in range(N)]\n",
        "\n",
        "    # Setting the first element of the array to 1\n",
        "    arr[0][0][0] = 1\n",
        "\n",
        "    # Main loop to iterate through n from 1 to N-1\n",
        "    for n in range(1, N):\n",
        "        # Helper function to compute s(a, b) based on conditions\n",
        "        def s(a, b):\n",
        "            return arr[n - a - b - 1][a][b] if n >= a + b + 1 else 0\n",
        "\n",
        "        for a in range(A):\n",
        "            for b in range(A):\n",
        "                c = a + b + 1\n",
        "\n",
        "                # Checking if c*(c-1)/2 > n or (c//2)**2 + n > N\n",
        "                if c * (c - 1) // 2 > n or (c // 2) * (c // 2) + n > N:\n",
        "                    break\n",
        "\n",
        "                res = 0  # Initialize result\n",
        "\n",
        "                # Calculating res based on values of a and b\n",
        "                if a == 0:\n",
        "                    if b == 0:\n",
        "                        res = s(0, 0) * 3 + s(1, 0) * 3\n",
        "                elif a == 1:\n",
        "                    if b == 0:\n",
        "                        res = s(0, 0) + s(1, 0) * 4 + s(2, 0) + s(1, 1) * 2\n",
        "                    else:\n",
        "                        res = s(b, 0) + s(b + 1, 0) + s(b, 1) + s(1, b) + s(b + 1, 1) + s(1, b + 1)\n",
        "                elif b == 0:\n",
        "                    res = s(a - 1, 0) + s(a, 0) * 2 + s(a - 1, 1) * 2 + s(a + 1, 0) + s(a, 1) * 2\n",
        "                else:\n",
        "                    res = s(a - 1, b) + s(a, b) + s(a - 1, b + 1) + s(a + b - 1, 1) + s(a, b + 1) + s(a + b, 1)\n",
        "\n",
        "                arr[n][a][b] = res % 1000000000  # Update the array with the result modulo 10^9\n",
        "\n",
        "    # Printing the final result from the array\n",
        "    print(arr[N - 1][0][0])\n",
        "\n",
        "# Call the main function to execute the program\n",
        "main()\n",
        "\n"
      ],
      "metadata": {
        "colab": {
          "base_uri": "https://localhost:8080/"
        },
        "id": "SXRsnPnJc9YQ",
        "outputId": "63e0fbd4-360e-47cd-ad15-5b830a214ee1"
      },
      "execution_count": null,
      "outputs": [
        {
          "output_type": "stream",
          "name": "stdout",
          "text": [
            "798443574\n"
          ]
        }
      ]
    },
    {
      "cell_type": "markdown",
      "source": [
        "Q2 (a)"
      ],
      "metadata": {
        "id": "rkFLXTvNc5AD"
      }
    }
  ]
}